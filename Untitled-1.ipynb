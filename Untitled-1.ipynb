{
 "cells": [
  {
   "cell_type": "code",
   "execution_count": 53,
   "metadata": {},
   "outputs": [
    {
     "data": {
      "text/plain": [
       "{'sf': {'name': 'sharath', 'mob': 67875567},\n",
       " 'cf': {'name': 'sachin', 'mob': 8786787},\n",
       " 'uf': {'name': 'suresh', 'mob': 67687686}}"
      ]
     },
     "execution_count": 53,
     "metadata": {},
     "output_type": "execute_result"
    }
   ],
   "source": [
    "s={'sf':{'name':'sharath','mob':67875567},'cf':{'name':'sachin','mob':8786787},'uf':{'name':'suresh','mob':67687686}}\n",
    "s"
   ]
  },
  {
   "cell_type": "code",
   "execution_count": 54,
   "metadata": {},
   "outputs": [
    {
     "name": "stdout",
     "output_type": "stream",
     "text": [
      "Name= sharath Mobile No= 67875567\n",
      "Name= sachin Mobile No= 8786787\n",
      "Name= suresh Mobile No= 67687686\n"
     ]
    }
   ],
   "source": [
    "for i in s.values():\n",
    "    print(\"Name=\",i[\"name\"],\"Mobile No=\",i['mob'])"
   ]
  },
  {
   "cell_type": "code",
   "execution_count": null,
   "metadata": {},
   "outputs": [],
   "source": [
    "   \n"
   ]
  },
  {
   "cell_type": "code",
   "execution_count": 88,
   "metadata": {},
   "outputs": [
    {
     "name": "stdout",
     "output_type": "stream",
     "text": [
      "0 , 1 = 1\n",
      "1 , 0 = 1\n",
      "0 , 1 = 1\n",
      "1 , 2 = 3\n",
      "2 , 3 = 5\n",
      "3 , 4 = 7\n",
      "4 , 5 = 9\n",
      "5 , 6 = 11\n",
      "6 , 7 = 13\n",
      "7 , 8 = 15\n",
      "8 , 9 = 17\n",
      "9 , 10 = 19\n",
      "10 , 11 = 21\n",
      "11 , 12 = 23\n",
      "12 , 13 = 25\n",
      "13 , 14 = 27\n",
      "14 , 15 = 29\n",
      "15 , 16 = 31\n",
      "16 , 17 = 33\n",
      "17 , 18 = 35\n",
      "18 , 19 = 37\n"
     ]
    }
   ],
   "source": [
    "a=0\n",
    "b=1\n",
    "\n",
    "i=0\n",
    "while i<21:\n",
    "    print(a,\",\",b,\"=\",a+b)\n",
    "    a=b\n",
    "    b=i\n",
    "    i+=1\n",
    "    \n"
   ]
  },
  {
   "cell_type": "code",
   "execution_count": null,
   "metadata": {},
   "outputs": [],
   "source": []
  }
 ],
 "metadata": {
  "kernelspec": {
   "display_name": "Python 3",
   "language": "python",
   "name": "python3"
  },
  "language_info": {
   "codemirror_mode": {
    "name": "ipython",
    "version": 3
   },
   "file_extension": ".py",
   "mimetype": "text/x-python",
   "name": "python",
   "nbconvert_exporter": "python",
   "pygments_lexer": "ipython3",
   "version": "3.13.0"
  }
 },
 "nbformat": 4,
 "nbformat_minor": 2
}
